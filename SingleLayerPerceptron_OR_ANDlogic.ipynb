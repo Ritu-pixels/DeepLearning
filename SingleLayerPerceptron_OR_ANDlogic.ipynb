{
 "cells": [
  {
   "cell_type": "markdown",
   "metadata": {},
   "source": [
    "# OR logic code by single layer perceptron model (Manual coding)"
   ]
  },
  {
   "cell_type": "code",
   "execution_count": 1,
   "metadata": {},
   "outputs": [],
   "source": [
    "import numpy as np\n",
    "from math import *\n",
    "import random \n",
    "import matplotlib as plt"
   ]
  },
  {
   "cell_type": "code",
   "execution_count": 2,
   "metadata": {},
   "outputs": [],
   "source": [
    "#Activation function : Step function\n",
    "def hardlim(w1,w2,x1,x2,b):\n",
    "    a= w1*x1+w2*x2+b\n",
    "    if a>0:\n",
    "        return 1\n",
    "    else:\n",
    "        return 0\n"
   ]
  },
  {
   "cell_type": "code",
   "execution_count": 3,
   "metadata": {},
   "outputs": [],
   "source": [
    "x = np.array([[0,0],[0,1],[1,0],[1,1]]) #input data\n",
    "\n",
    "\"\"\"\n",
    "w1 =np.random.uniform(-0.5,0.5)\n",
    "w2= np.random.uniform(-0.5,0.5)\n",
    "b= np.random.rand()\n",
    "\"\"\"\n",
    "\n",
    "w1=0.5 #weight 1, w2 values and bias (thershold values)\n",
    "w2=1\n",
    "b=-0.5\n",
    "\n",
    "y1=np.array([0,1,1,1]) #desired output\n",
    "y =[0,0,0,0] #intial output\n"
   ]
  },
  {
   "cell_type": "code",
   "execution_count": 4,
   "metadata": {},
   "outputs": [],
   "source": [
    "for j in range(2):\n",
    "    for i in range(len(x)):\n",
    "        y[i]=hardlim(w1,w2,x[i][0],x[i][1],b) #calling activation function\n",
    "        error= y1[i]-y[i]                     #calculating error \n",
    "        w1=w1+0.1*error*x[i][0]               #adjusting w1 and w2\n",
    "        w2=w2+0.1*error*x[i][1]"
   ]
  },
  {
   "cell_type": "code",
   "execution_count": 5,
   "metadata": {},
   "outputs": [
    {
     "name": "stdout",
     "output_type": "stream",
     "text": [
      "w1= 0.6\n",
      "w2= 1.0\n"
     ]
    }
   ],
   "source": [
    "print('w1=',w1)     #weights values\n",
    "print('w2=',w2)\n"
   ]
  },
  {
   "cell_type": "code",
   "execution_count": 6,
   "metadata": {},
   "outputs": [
    {
     "name": "stdout",
     "output_type": "stream",
     "text": [
      "Y= [0, 1, 1, 1]\n"
     ]
    }
   ],
   "source": [
    "print('Y=',y)        #Calculated output\n"
   ]
  },
  {
   "cell_type": "markdown",
   "metadata": {},
   "source": [
    "So we have achived our end output as per our desired expectations, Also if you check our initial w1,w2 =0.5 but after weights adjustments i.e corrected weights have new vaues w1,w2= 0.6,1.0"
   ]
  },
  {
   "cell_type": "markdown",
   "metadata": {},
   "source": [
    "# Let's begin with a new program for AND logic by single layer perceptron"
   ]
  },
  {
   "cell_type": "markdown",
   "metadata": {},
   "source": [
    "here we will do the some changes in the above code: 1. y_Desired variable value(And logic value) 2.threshold value (though we can take the same as above but it will show different values for corrected weights 3. We have increased no. of epocs from 2 to 5 (j range value) as it requires more iteration for desired output."
   ]
  },
  {
   "cell_type": "code",
   "execution_count": 7,
   "metadata": {},
   "outputs": [],
   "source": [
    "x_input = np.array([[0,0],[0,1],[1,0],[1,1]]) #input data\n",
    "\n",
    "w4=0.3 #weight 1, w2 values and bias (thershold values)\n",
    "w5=-0.1\n",
    "b= -0.19\n",
    "y_desired=np.array([0,0,0,1]) #desired output\n",
    "y_pred=[0,0,0,0] #intial output\n",
    "\n",
    "\n",
    "for j in range(5):\n",
    "    for i in range(len(x_input)):\n",
    "        y_pred[i]= hardlim(w4,w5,x_input[i][0],x_input[i][1],b) #calling activation function\n",
    "        error= y_desired[i]-y_pred[i]                           #calculating error \n",
    "        w4=w4+0.1*error*x[i][0]                                 #adjusting w1 and w2\n",
    "        w5=w5+0.1*error*x[i][1]\n"
   ]
  },
  {
   "cell_type": "code",
   "execution_count": 8,
   "metadata": {},
   "outputs": [
    {
     "name": "stdout",
     "output_type": "stream",
     "text": [
      "w1= 0.09999999999999998\n",
      "w2= 0.1\n",
      "Y= [0, 0, 0, 1]\n"
     ]
    }
   ],
   "source": [
    "print('w1=',w4)     #weights values\n",
    "print('w2=',w5)\n",
    "print('Y=',y_pred) "
   ]
  }
 ],
 "metadata": {
  "kernelspec": {
   "display_name": "Python 3",
   "language": "python",
   "name": "python3"
  },
  "language_info": {
   "codemirror_mode": {
    "name": "ipython",
    "version": 3
   },
   "file_extension": ".py",
   "mimetype": "text/x-python",
   "name": "python",
   "nbconvert_exporter": "python",
   "pygments_lexer": "ipython3",
   "version": "3.8.3"
  }
 },
 "nbformat": 4,
 "nbformat_minor": 4
}
