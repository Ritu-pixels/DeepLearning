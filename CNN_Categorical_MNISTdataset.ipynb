{
  "nbformat": 4,
  "nbformat_minor": 0,
  "metadata": {
    "colab": {
      "name": "MNIST_with_CNN.ipynb",
      "provenance": [],
      "collapsed_sections": []
    },
    "kernelspec": {
      "name": "python3",
      "display_name": "Python 3"
    },
    "language_info": {
      "name": "python"
    }
  },
  "cells": [
    {
      "cell_type": "markdown",
      "metadata": {
        "id": "HEFd8TajvNNN"
      },
      "source": [
        "# **1.Import libraries and modules**\n",
        "\n",
        "Keras is available in the google collab by default\n",
        "from keyword is used to import libraries and modules\n",
        "\n",
        "MNIST dataset is already available in datasets module under keras\n",
        "\n",
        "matplotliblibrary has functions to plot arrays as images\n"
      ]
    },
    {
      "cell_type": "code",
      "metadata": {
        "id": "DDD-dDZovCQD"
      },
      "source": [
        "from keras.datasets import mnist\n",
        "from keras.layers import Flatten, Dense, Dropout, Activation, Conv2D, MaxPooling2D\n",
        "from keras.models import Sequential\n",
        "\n",
        "from keras.utils import to_categorical\n",
        "from keras.callbacks import Callback"
      ],
      "execution_count": null,
      "outputs": []
    },
    {
      "cell_type": "markdown",
      "metadata": {
        "id": "Ji8WxDzDxIAa"
      },
      "source": [
        "Import plotting modules"
      ]
    },
    {
      "cell_type": "code",
      "metadata": {
        "id": "BqMVwHC2xLVf"
      },
      "source": [
        "import matplotlib.pylab as plt"
      ],
      "execution_count": null,
      "outputs": []
    },
    {
      "cell_type": "markdown",
      "metadata": {
        "id": "bbVKCkDBxTU3"
      },
      "source": [
        "# **2. Define hyper parameters and variables**"
      ]
    },
    {
      "cell_type": "code",
      "metadata": {
        "id": "ZHFlKzsqxZik"
      },
      "source": [
        "batch_size=128\n",
        "num_classes=10\n",
        "epochs =10\n",
        "\n",
        "#input image dimensions\n",
        "img_x, img_y = 28,28"
      ],
      "execution_count": null,
      "outputs": []
    },
    {
      "cell_type": "markdown",
      "metadata": {
        "id": "6QDRb11Ux3IT"
      },
      "source": [
        "# Load the dataset"
      ]
    },
    {
      "cell_type": "code",
      "metadata": {
        "colab": {
          "base_uri": "https://localhost:8080/"
        },
        "id": "KCWHFrlUx5z5",
        "outputId": "6d2878dd-9364-41fe-fe59-8d393bffe687"
      },
      "source": [
        "(X_train,y_train),(X_test,y_test) = mnist.load_data()"
      ],
      "execution_count": null,
      "outputs": [
        {
          "output_type": "stream",
          "text": [
            "Downloading data from https://storage.googleapis.com/tensorflow/tf-keras-datasets/mnist.npz\n",
            "11493376/11490434 [==============================] - 0s 0us/step\n"
          ],
          "name": "stdout"
        }
      ]
    },
    {
      "cell_type": "code",
      "metadata": {
        "colab": {
          "base_uri": "https://localhost:8080/",
          "height": 316
        },
        "id": "-9U9aTtEx9PX",
        "outputId": "1b9e20a0-5305-4229-cb2a-9bf3cc4dff37"
      },
      "source": [
        "print(X_train.shape)\n",
        "plt.imshow(X_train[0])\n",
        "\n",
        "print(y_train.shape)\n",
        "print(y_train[0])"
      ],
      "execution_count": null,
      "outputs": [
        {
          "output_type": "stream",
          "text": [
            "(60000, 28, 28)\n",
            "(60000,)\n",
            "5\n"
          ],
          "name": "stdout"
        },
        {
          "output_type": "display_data",
          "data": {
            "image/png": "[encoded data removed]",
            "text/plain": [
              "<Figure size 432x288 with 1 Axes>"
            ]
          },
          "metadata": {
            "tags": [],
            "needs_background": "light"
          }
        }
      ]
    },
    {
      "cell_type": "markdown",
      "metadata": {
        "id": "od-GZlRqyOZa"
      },
      "source": [
        "load_data function of the mnist loads the train and test data of MNIST into variables X_train,y_train and X_test,y_test.\n",
        "\n",
        "\n",
        "X_train holds the 60000 training data images, each of which is a 28*28 image\n",
        "\n",
        "We are plotting the first training sample here.\n",
        "\n",
        "y_train holds the actual digit corresponding to X_train image.\n",
        "\n",
        "X_train and y_train are used to train our CNN model"
      ]
    },
    {
      "cell_type": "code",
      "metadata": {
        "id": "Ak27l31yyY7R"
      },
      "source": [
        "#reshape the data into 4D tensor-(sample_number,x_img_size,y_img_size, num_channels)\n",
        "#because the MNIST is greyscale, we only have a single channel-RGB color images would have 3 channels\n",
        "\n",
        "x_train= X_train.reshape(X_train.shape[0],img_x,img_y,1)\n",
        "x_test= X_test.reshape(X_test.shape[0],img_x,img_y,1)\n",
        "input_shape= (img_x,img_y,1)\n",
        "\n",
        "#convert the data to right type\n",
        "x_train = x_train.astype('float32')\n",
        "x_test = x_test.astype('float32')\n",
        "x_train /= 255\n",
        "x_test /= 255"
      ],
      "execution_count": null,
      "outputs": []
    },
    {
      "cell_type": "markdown",
      "metadata": {
        "id": "zOuC_c-02FXx"
      },
      "source": [
        "\n",
        "\n",
        "Normalize X_train and X-test which has integers between 0 and 255 to floats between 0 and 1 by dividing with 255\n",
        "\n",
        "Convert the Y values y_train and y_testwhich are class data between 0 and 9 to categorical data\n",
        "\n",
        "0=[1,0,0,0,0,0,0,0,0,0]\n",
        "\n",
        "1=[0,1,0,0,0,0,0,0,0,0]\n",
        "\n",
        "9=[0,0,0,0,0,0,0,0,0,1]\n",
        "\n",
        "\n",
        "In the example y_train[0] is 5\n",
        "\n"
      ]
    },
    {
      "cell_type": "markdown",
      "metadata": {
        "id": "s8o57I4O0cIn"
      },
      "source": [
        "View pre-processed data"
      ]
    },
    {
      "cell_type": "code",
      "metadata": {
        "colab": {
          "base_uri": "https://localhost:8080/"
        },
        "id": "HRDB0cxk0UoM",
        "outputId": "3af958f5-67e4-40cf-cff1-e5a0c6d4ddad"
      },
      "source": [
        "print('x_train.shape:', x_train.shape)\n",
        "print(x_train.shape[0], 'train samples')\n",
        "print(x_test.shape[0], 'test smaples')"
      ],
      "execution_count": null,
      "outputs": [
        {
          "output_type": "stream",
          "text": [
            "x_train.shape: (60000, 28, 28, 1)\n",
            "60000 train samples\n",
            "10000 test smaples\n"
          ],
          "name": "stdout"
        }
      ]
    },
    {
      "cell_type": "markdown",
      "metadata": {
        "id": "9k3sjZGm1KJN"
      },
      "source": [
        "Convert 1-D class arrays to 10-D class matrices  and view the result"
      ]
    },
    {
      "cell_type": "code",
      "metadata": {
        "id": "BZ7KrFw31By3"
      },
      "source": [
        "#convert the class vectors to binmary clas matrices this is for use in the categorical_crossentropy loss below\n",
        "y_train =to_categorical(y_train,num_classes)\n",
        "y_test=to_categorical(y_test,num_classes)"
      ],
      "execution_count": null,
      "outputs": []
    },
    {
      "cell_type": "markdown",
      "metadata": {
        "id": "bvN2duYE10Js"
      },
      "source": [
        "# Define the base model\n",
        "\n",
        "DEFINE THE MODEL\n",
        "\n",
        "Model us defined to be of type Sequential, this means we append layers one by one.\n",
        "\n",
        "model.add is used to append the layers\n",
        "\n",
        "CNN has Conv2D and MaxPooling2D layers \n",
        "\n",
        "Dense layer gets 1024 parameters\n",
        "\n",
        "model.compile configures the model for training with all the hyperparameters, takes the loss function as a parameter\n",
        "\n",
        "model.summary provides a summary of the each layer including the number of trainable parameters. Only Dense layers have trainable parameters.\n",
        "\n",
        "No. of trainable parameters for convolution layers = (number of filters in convolution layer)*(number of neurons in layer+1)\n",
        "number of neurons =kernel_size parameters+1\n",
        "\n",
        "No. of trainable parameters for dense layers = (number of neurons in previous layer+1)*(number of neurons in next layer)\n",
        "\n"
      ]
    },
    {
      "cell_type": "code",
      "metadata": {
        "id": "lK_BoFhH2bgJ"
      },
      "source": [
        "def baseline_model():\n",
        "  #create model\n",
        "  model=Sequential()\n",
        "  model.add(Conv2D(32,kernel_size=(5,5),activation='relu',input_shape=input_shape))\n",
        "  model.add(MaxPooling2D(pool_size=(2,2)))\n",
        "  model.add(Conv2D(64,kernel_size=(5,5),activation='relu'))\n",
        "  model.add(MaxPooling2D(pool_size=(2,2)))\n",
        "  model.add(Flatten())\n",
        "  model.add(Dense(64, activation='relu'))\n",
        "  model.add(Dense(num_classes, activation='softmax'))\n",
        "  model.compile(loss='categorical_crossentropy',\n",
        "              optimizer='adam',\n",
        "              metrics=['accuracy'])\n",
        "  return model"
      ],
      "execution_count": null,
      "outputs": []
    },
    {
      "cell_type": "code",
      "metadata": {
        "colab": {
          "base_uri": "https://localhost:8080/"
        },
        "id": "b68K143J4iDA",
        "outputId": "fa234bcb-bb4f-4d4c-98d4-e54c8dd8134d"
      },
      "source": [
        "model =baseline_model()\n",
        "model.summary()"
      ],
      "execution_count": null,
      "outputs": [
        {
          "output_type": "stream",
          "text": [
            "Model: \"sequential\"\n",
            "_________________________________________________________________\n",
            "Layer (type)                 Output Shape              Param #   \n",
            "=================================================================\n",
            "conv2d (Conv2D)              (None, 24, 24, 32)        832       \n",
            "_________________________________________________________________\n",
            "max_pooling2d (MaxPooling2D) (None, 12, 12, 32)        0         \n",
            "_________________________________________________________________\n",
            "conv2d_1 (Conv2D)            (None, 8, 8, 64)          51264     \n",
            "_________________________________________________________________\n",
            "max_pooling2d_1 (MaxPooling2 (None, 4, 4, 64)          0         \n",
            "_________________________________________________________________\n",
            "flatten (Flatten)            (None, 1024)              0         \n",
            "_________________________________________________________________\n",
            "dense (Dense)                (None, 64)                65600     \n",
            "_________________________________________________________________\n",
            "dense_1 (Dense)              (None, 10)                650       \n",
            "=================================================================\n",
            "Total params: 118,346\n",
            "Trainable params: 118,346\n",
            "Non-trainable params: 0\n",
            "_________________________________________________________________\n"
          ],
          "name": "stdout"
        }
      ]
    },
    {
      "cell_type": "markdown",
      "metadata": {
        "id": "i6vF-5eE5z3f"
      },
      "source": [
        "TRAIN THE MODEL\n",
        "\n",
        "model.fit is used to perform the training of the model\n",
        "\n",
        "epochs is the number of times the model learns through all training smaples\n",
        "\n",
        "batch_size is the number of samples taken in one iteration before updating the weights. Balances between memory utilization and stability since batch_size=32 and number of samples=60000, each epoch has 60000/128= 469 mini batches\n",
        "\n",
        "verbose provides the detailed output of each epoch\n",
        "\n",
        "loss function is value at the end of each epoch\n",
        "\n",
        "accuracy calculates how often prediction equal labels. Becomes 1 when all the predictions match expected vlaue. \n",
        "\n",
        "In output of fit function, accuracy is with respect to training data.\n",
        "\n",
        "Since the validation_data is also provided to model.fit, loss, accuracy is for training data and val_loss and val_accuracy are for validation data"
      ]
    },
    {
      "cell_type": "code",
      "metadata": {
        "colab": {
          "base_uri": "https://localhost:8080/"
        },
        "id": "cZJVcgSx6EXD",
        "outputId": "8e1fdba6-e95f-4542-ac9b-f5dbda3e3a3d"
      },
      "source": [
        "model_log = model.fit(x_train,y_train, batch_size=batch_size, epochs=epochs,verbose=1, validation_data=(x_test,y_test))"
      ],
      "execution_count": null,
      "outputs": [
        {
          "output_type": "stream",
          "text": [
            "Epoch 1/10\n",
            "469/469 [==============================] - 56s 118ms/step - loss: 0.5145 - accuracy: 0.8443 - val_loss: 0.0568 - val_accuracy: 0.9819\n",
            "Epoch 2/10\n",
            "469/469 [==============================] - 55s 117ms/step - loss: 0.0582 - accuracy: 0.9823 - val_loss: 0.0424 - val_accuracy: 0.9866\n",
            "Epoch 3/10\n",
            "469/469 [==============================] - 55s 117ms/step - loss: 0.0377 - accuracy: 0.9876 - val_loss: 0.0382 - val_accuracy: 0.9877\n",
            "Epoch 4/10\n",
            "469/469 [==============================] - 55s 117ms/step - loss: 0.0282 - accuracy: 0.9914 - val_loss: 0.0313 - val_accuracy: 0.9894\n",
            "Epoch 5/10\n",
            "469/469 [==============================] - 55s 117ms/step - loss: 0.0208 - accuracy: 0.9937 - val_loss: 0.0289 - val_accuracy: 0.9903\n",
            "Epoch 6/10\n",
            "469/469 [==============================] - 55s 117ms/step - loss: 0.0171 - accuracy: 0.9945 - val_loss: 0.0388 - val_accuracy: 0.9885\n",
            "Epoch 7/10\n",
            "469/469 [==============================] - 55s 117ms/step - loss: 0.0151 - accuracy: 0.9954 - val_loss: 0.0328 - val_accuracy: 0.9893\n",
            "Epoch 8/10\n",
            "469/469 [==============================] - 54s 116ms/step - loss: 0.0125 - accuracy: 0.9960 - val_loss: 0.0268 - val_accuracy: 0.9929\n",
            "Epoch 9/10\n",
            "469/469 [==============================] - 55s 116ms/step - loss: 0.0102 - accuracy: 0.9968 - val_loss: 0.0281 - val_accuracy: 0.9915\n",
            "Epoch 10/10\n",
            "469/469 [==============================] - 55s 116ms/step - loss: 0.0085 - accuracy: 0.9976 - val_loss: 0.0303 - val_accuracy: 0.9911\n"
          ],
          "name": "stdout"
        }
      ]
    },
    {
      "cell_type": "markdown",
      "metadata": {
        "id": "ldXfcock7RpY"
      },
      "source": [
        "model_log maintains the history of loss, accuracy, val_loss and val_accuracy at the end of each epoch\n",
        "\n",
        "sub_plot method allows multiple sub_plots to be viewed  as a part of same plot\n",
        "\n",
        "First subplot plots accuracyor both train and test data over epochs\n",
        "\n",
        "Second subplot plots loss for both tain and test data over epochs\n",
        "\n",
        "If the graphs are similar for both train and test data, it is an indication no overfitting of train data\n"
      ]
    },
    {
      "cell_type": "code",
      "metadata": {
        "id": "jXeDee3q46tg"
      },
      "source": [
        "def evaluate_model(model, model_log):\n",
        "  #score=model.evaluate(x_test,y_test,verbose=0)\n",
        "  #print('Test loss:', score[0])\n",
        "  #print('Test accuracy:', score[1])\n",
        "  print('Train loss:', model_log.history['loss'][-1])\n",
        "  print('Train accuracy:', model_log.history['accuracy'][-1])\n",
        "\n",
        "  print('Test loss:', model_log.history['val_loss'][-1])\n",
        "  print('Test accuracy:', model_log.history['val_accuracy'][-1])\n",
        "\n",
        "  plt.subplot(2,1,1)\n",
        "  plt.plot(range(1,11),model_log.history['accuracy'])\n",
        "  plt.plot(range(1,11),model_log.history['val_accuracy'])\n",
        "  plt.title('model accuracy')\n",
        "  plt.ylabel('accuracy')\n",
        "  plt.xlabel('epoch')\n",
        "  plt.legend(['train','test'],loc='lower right')\n",
        "\n",
        "  plt.subplot(2,1,2)\n",
        "  plt.plot(range(1,11),model_log.history['loss'])\n",
        "  plt.plot(range(1,11),model_log.history['val_loss'])\n",
        "  plt.title('model loss')\n",
        "  plt.ylabel('loss')\n",
        "  plt.xlabel('epoch')\n",
        "  plt.legend(['train','test'],loc='upper right')\n",
        "\n",
        "  plt.tight_layout()\n",
        "  return\n"
      ],
      "execution_count": null,
      "outputs": []
    },
    {
      "cell_type": "markdown",
      "metadata": {
        "id": "00bgjN9f-4Kz"
      },
      "source": [
        "evaluate_model takes model and model_log as parameter\n",
        "\n",
        "Train accuracy is similar for train and test data (99.7%,99.1%)\n",
        "\n",
        "After 8th iteration there is slightest indication of overfitting"
      ]
    },
    {
      "cell_type": "code",
      "metadata": {
        "colab": {
          "base_uri": "https://localhost:8080/",
          "height": 370
        },
        "id": "gkb-v3qn-QZ4",
        "outputId": "2c5ba259-ef5a-4c02-d797-421b1d1d736a"
      },
      "source": [
        "evaluate_model(model,model_log)"
      ],
      "execution_count": null,
      "outputs": [
        {
          "output_type": "stream",
          "text": [
            "Train loss: 0.00886900257319212\n",
            "Train accuracy: 0.9972166419029236\n",
            "Test loss: 0.030323592945933342\n",
            "Test accuracy: 0.991100013256073\n"
          ],
          "name": "stdout"
        },
        {
          "output_type": "display_data",
          "data": {
            "image/png": "[encoded data removed]",
            "text/plain": [
              "<Figure size 432x288 with 2 Axes>"
            ]
          },
          "metadata": {
            "tags": [],
            "needs_background": "light"
          }
        }
      ]
    },
    {
      "cell_type": "code",
      "metadata": {
        "id": "Xs2gThWNJBQs"
      },
      "source": [
        ""
      ],
      "execution_count": null,
      "outputs": []
    },
    {
      "cell_type": "markdown",
      "metadata": {
        "id": "ilPjet3KBL6Z"
      },
      "source": [
        "Define the small_model\n",
        "\n",
        "small_model dunction defines layers of small model \n",
        "\n",
        "Kernel size of second convolution layer is 3**3, baseline had 5*5\n",
        "\n",
        "Second maxpool pool_size is 5*5 , baseline had 2*2\n",
        "\n",
        "Number of f trainable parameters fell from 118k to 36k\n",
        "\n",
        "Our dense layer example from previous module had 101k"
      ]
    },
    {
      "cell_type": "code",
      "metadata": {
        "id": "OCbA6uhkCGl7"
      },
      "source": [
        "def small_model():\n",
        "  #create model\n",
        "  model=Sequential()\n",
        "  model.add(Conv2D(32,kernel_size=(5,5),activation='relu',input_shape=input_shape))\n",
        "  model.add(MaxPooling2D(pool_size=(2,2)))\n",
        "  model.add(Conv2D(64,kernel_size=(3,3),activation='relu'))\n",
        "  model.add(MaxPooling2D(pool_size=(5,5)))\n",
        "  model.add(Flatten())\n",
        "  model.add(Dense(64, activation='relu'))\n",
        "  model.add(Dense(num_classes, activation='softmax'))\n",
        "  model.compile(loss='categorical_crossentropy',\n",
        "              optimizer='adam',\n",
        "              metrics=['accuracy'])\n",
        "  return model"
      ],
      "execution_count": null,
      "outputs": []
    },
    {
      "cell_type": "code",
      "metadata": {
        "colab": {
          "base_uri": "https://localhost:8080/"
        },
        "id": "eTOMVr6WCd1J",
        "outputId": "7cf5db19-75b5-415b-bcf4-283f2e179877"
      },
      "source": [
        "small_model =small_model()\n",
        "small_model.summary()"
      ],
      "execution_count": null,
      "outputs": [
        {
          "output_type": "stream",
          "text": [
            "Model: \"sequential_4\"\n",
            "_________________________________________________________________\n",
            "Layer (type)                 Output Shape              Param #   \n",
            "=================================================================\n",
            "conv2d_8 (Conv2D)            (None, 24, 24, 32)        832       \n",
            "_________________________________________________________________\n",
            "max_pooling2d_8 (MaxPooling2 (None, 12, 12, 32)        0         \n",
            "_________________________________________________________________\n",
            "conv2d_9 (Conv2D)            (None, 10, 10, 64)        18496     \n",
            "_________________________________________________________________\n",
            "max_pooling2d_9 (MaxPooling2 (None, 2, 2, 64)          0         \n",
            "_________________________________________________________________\n",
            "flatten_4 (Flatten)          (None, 256)               0         \n",
            "_________________________________________________________________\n",
            "dense_8 (Dense)              (None, 64)                16448     \n",
            "_________________________________________________________________\n",
            "dense_9 (Dense)              (None, 10)                650       \n",
            "=================================================================\n",
            "Total params: 36,426\n",
            "Trainable params: 36,426\n",
            "Non-trainable params: 0\n",
            "_________________________________________________________________\n"
          ],
          "name": "stdout"
        }
      ]
    },
    {
      "cell_type": "code",
      "metadata": {
        "colab": {
          "base_uri": "https://localhost:8080/"
        },
        "id": "QQy1H0ihH8oQ",
        "outputId": "e043f34c-4b5f-4252-e64f-e43c7a5f8486"
      },
      "source": [
        "small_model_log = small_model.fit(x_train,y_train,batch_size=batch_size,epochs=epochs,verbose=1, validation_data=(x_test,y_test))"
      ],
      "execution_count": null,
      "outputs": [
        {
          "output_type": "stream",
          "text": [
            "Epoch 1/10\n",
            "469/469 [==============================] - 43s 90ms/step - loss: 0.7608 - accuracy: 0.7885 - val_loss: 0.0728 - val_accuracy: 0.9768\n",
            "Epoch 2/10\n",
            "469/469 [==============================] - 42s 90ms/step - loss: 0.0756 - accuracy: 0.9766 - val_loss: 0.0463 - val_accuracy: 0.9846\n",
            "Epoch 3/10\n",
            "469/469 [==============================] - 42s 89ms/step - loss: 0.0540 - accuracy: 0.9833 - val_loss: 0.0392 - val_accuracy: 0.9872\n",
            "Epoch 4/10\n",
            "469/469 [==============================] - 42s 89ms/step - loss: 0.0424 - accuracy: 0.9871 - val_loss: 0.0434 - val_accuracy: 0.9855\n",
            "Epoch 5/10\n",
            "469/469 [==============================] - 43s 92ms/step - loss: 0.0352 - accuracy: 0.9896 - val_loss: 0.0429 - val_accuracy: 0.9868\n",
            "Epoch 6/10\n",
            "469/469 [==============================] - 42s 89ms/step - loss: 0.0333 - accuracy: 0.9898 - val_loss: 0.0419 - val_accuracy: 0.9859\n",
            "Epoch 7/10\n",
            "469/469 [==============================] - 42s 89ms/step - loss: 0.0275 - accuracy: 0.9917 - val_loss: 0.0279 - val_accuracy: 0.9898\n",
            "Epoch 8/10\n",
            "469/469 [==============================] - 42s 89ms/step - loss: 0.0231 - accuracy: 0.9925 - val_loss: 0.0430 - val_accuracy: 0.9865\n",
            "Epoch 9/10\n",
            "469/469 [==============================] - 42s 89ms/step - loss: 0.0207 - accuracy: 0.9936 - val_loss: 0.0328 - val_accuracy: 0.9891\n",
            "Epoch 10/10\n",
            "469/469 [==============================] - 42s 89ms/step - loss: 0.0200 - accuracy: 0.9932 - val_loss: 0.0363 - val_accuracy: 0.9878\n"
          ],
          "name": "stdout"
        }
      ]
    },
    {
      "cell_type": "code",
      "metadata": {
        "colab": {
          "base_uri": "https://localhost:8080/",
          "height": 370
        },
        "id": "28mX7rPfJD8N",
        "outputId": "9c6dca11-6e1d-4cc7-8d40-1915d69b511e"
      },
      "source": [
        "evaluate_model(small_model,small_model_log)"
      ],
      "execution_count": null,
      "outputs": [
        {
          "output_type": "stream",
          "text": [
            "Train loss: 0.020712805911898613\n",
            "Train accuracy: 0.9929999709129333\n",
            "Test loss: 0.036253634840250015\n",
            "Test accuracy: 0.9878000020980835\n"
          ],
          "name": "stdout"
        },
        {
          "output_type": "display_data",
          "data": {
            "image/png": "[encoded data removed]",
            "text/plain": [
              "<Figure size 432x288 with 2 Axes>"
            ]
          },
          "metadata": {
            "tags": [],
            "needs_background": "light"
          }
        }
      ]
    }
  ]
}