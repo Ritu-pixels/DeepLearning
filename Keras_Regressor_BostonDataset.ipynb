{
  "nbformat": 4,
  "nbformat_minor": 0,
  "metadata": {
    "colab": {
      "name": "DIAT_Boston_data.ipynb",
      "provenance": [],
      "collapsed_sections": []
    },
    "kernelspec": {
      "name": "python3",
      "display_name": "Python 3"
    },
    "language_info": {
      "name": "python"
    }
  },
  "cells": [
    {
      "cell_type": "markdown",
      "metadata": {
        "id": "l04cdGXwQdE6"
      },
      "source": [
        "#1. Import Librariers and *modules* "
      ]
    },
    {
      "cell_type": "code",
      "metadata": {
        "id": "eJcYFr2zQSWz"
      },
      "source": [
        "import pandas\n",
        "from keras.datasets import boston_housing\n",
        "\n",
        "from keras.models import Sequential\n",
        "from keras.layers import Dense\n",
        "from keras.wrappers.scikit_learn import KerasRegressor\n",
        "from sklearn.model_selection import cross_val_score\n",
        "from sklearn.model_selection import KFold\n",
        "from sklearn.preprocessing import StandardScaler\n",
        "from sklearn.pipeline import Pipeline"
      ],
      "execution_count": null,
      "outputs": []
    },
    {
      "cell_type": "markdown",
      "metadata": {
        "id": "iYAylLDFRSO3"
      },
      "source": [
        "#2. Load the Boston Dataset"
      ]
    },
    {
      "cell_type": "code",
      "metadata": {
        "colab": {
          "base_uri": "https://localhost:8080/"
        },
        "id": "cX6hLH-iRXQn",
        "outputId": "46443809-1b45-43be-e336-a578f89e9aed"
      },
      "source": [
        "(X_train,y_train),(X_test,y_test) = boston_housing.load_data()"
      ],
      "execution_count": null,
      "outputs": [
        {
          "output_type": "stream",
          "text": [
            "Downloading data from https://storage.googleapis.com/tensorflow/tf-keras-datasets/boston_housing.npz\n",
            "57344/57026 [==============================] - 0s 0us/step\n"
          ],
          "name": "stdout"
        }
      ]
    },
    {
      "cell_type": "markdown",
      "metadata": {
        "id": "t78WiihfRtmT"
      },
      "source": [
        "The data is returned as two tuples representing training and testing splits.\n",
        "The X_train and X_test contain the feature columnns\n",
        "The y_train and y_test contain the label/output column"
      ]
    },
    {
      "cell_type": "code",
      "metadata": {
        "colab": {
          "base_uri": "https://localhost:8080/"
        },
        "id": "ACXJf6ZHSCqV",
        "outputId": "8a4b0ed5-c2e3-4d3f-dbb4-2ddfe7f5592d"
      },
      "source": [
        "#let us view on sample from the features\n",
        "print(X_train[0],y_train[0])"
      ],
      "execution_count": null,
      "outputs": [
        {
          "output_type": "stream",
          "text": [
            "[  1.23247   0.        8.14      0.        0.538     6.142    91.7\n",
            "   3.9769    4.      307.       21.      396.9      18.72   ] 15.2\n"
          ],
          "name": "stdout"
        }
      ]
    },
    {
      "cell_type": "markdown",
      "metadata": {
        "id": "geRCIyXXSUAA"
      },
      "source": [
        "#3. Define the baseline Model"
      ]
    },
    {
      "cell_type": "code",
      "metadata": {
        "id": "e92hVuRZSYGM"
      },
      "source": [
        "#define the base model\n",
        "def baseline_model():\n",
        "  #create model\n",
        "  model= Sequential()\n",
        "  model.add(Dense(13,input_dim=13,kernel_initializer='normal',activation='relu'))\n",
        "  model.add(Dense(1,kernel_initializer='normal'))\n",
        "  #compile the model\n",
        "  model.compile(loss='mean_squared_error',optimizer='adam')\n",
        "  return model"
      ],
      "execution_count": null,
      "outputs": []
    },
    {
      "cell_type": "code",
      "metadata": {
        "colab": {
          "base_uri": "https://localhost:8080/"
        },
        "id": "sCngi8iUTQPJ",
        "outputId": "e304aeaa-10e5-4b44-a00e-dc939169dd49"
      },
      "source": [
        "baseline_model().summary()"
      ],
      "execution_count": null,
      "outputs": [
        {
          "output_type": "stream",
          "text": [
            "Model: \"sequential\"\n",
            "_________________________________________________________________\n",
            "Layer (type)                 Output Shape              Param #   \n",
            "=================================================================\n",
            "dense (Dense)                (None, 13)                182       \n",
            "_________________________________________________________________\n",
            "dense_1 (Dense)              (None, 1)                 14        \n",
            "=================================================================\n",
            "Total params: 196\n",
            "Trainable params: 196\n",
            "Non-trainable params: 0\n",
            "_________________________________________________________________\n"
          ],
          "name": "stdout"
        }
      ]
    },
    {
      "cell_type": "code",
      "metadata": {
        "colab": {
          "base_uri": "https://localhost:8080/"
        },
        "id": "yOcQlccRTk4X",
        "outputId": "cc4d67a4-3eec-42b9-c679-f068233084c2"
      },
      "source": [
        "estimator =KerasRegressor(build_fn=baseline_model,epochs=100,batch_size=5,verbose=0)\n",
        "kfold=KFold(n_splits=10)\n",
        "results= cross_val_score(estimator, X_train,y_train,cv=kfold)\n",
        "print(\"Baseline=%.2f (%.2f) MSE\" % (results.mean(),results.std()))"
      ],
      "execution_count": null,
      "outputs": [
        {
          "output_type": "stream",
          "text": [
            "Baseline=-26.18 (16.31) MSE\n"
          ],
          "name": "stdout"
        }
      ]
    },
    {
      "cell_type": "markdown",
      "metadata": {
        "id": "q-W7Th4QUd-X"
      },
      "source": [
        "3.Standardized Model"
      ]
    },
    {
      "cell_type": "code",
      "metadata": {
        "colab": {
          "base_uri": "https://localhost:8080/"
        },
        "id": "nZ8D7OUaUcXN",
        "outputId": "1c468c39-b201-4ae9-e0e3-7e35ad85f041"
      },
      "source": [
        "estimators=[]\n",
        "estimators.append(('standardize',StandardScaler()))\n",
        "estimators.append(('mlp',KerasRegressor(build_fn=baseline_model,epochs=50,batch_size=5, verbose=0)))\n",
        "pipeline=Pipeline(estimators)\n",
        "kfold=KFold(n_splits=10)\n",
        "results= cross_val_score(pipeline, X_train,y_train,cv=kfold)\n",
        "print(\"Baseline=%.2f (%.2f) MSE\" % (results.mean(),results.std()))"
      ],
      "execution_count": null,
      "outputs": [
        {
          "output_type": "stream",
          "text": [
            "Baseline=-21.43 (10.24) MSE\n"
          ],
          "name": "stdout"
        }
      ]
    },
    {
      "cell_type": "markdown",
      "metadata": {
        "id": "nxOWVHXUVXMf"
      },
      "source": [
        "# 4.Deeper Model\n",
        "\n",
        "One way to improve the performance of a neural network is to add more layers, this might allow the model to extract and recombine higher order features embedded in the data.\n",
        "\n",
        "In this section we will evaluate the effect of adding one more hidden layer to the model. This is as easy as defining the new function that will create the deeper model, copied from our base line model above. we can then insert a new line after the first hidden layer. In this case with about half the number of neurons."
      ]
    },
    {
      "cell_type": "code",
      "metadata": {
        "id": "nYQV8cj7WN4m"
      },
      "source": [
        "def larger_model():\n",
        "  #create model\n",
        "  model= Sequential()\n",
        "  model.add(Dense(20,input_dim=13,kernel_initializer='normal',activation='relu'))\n",
        "  model.add(Dense(20,kernel_initializer='normal',activation='relu'))\n",
        "  model.add(Dense(1,kernel_initializer='normal'))\n",
        "  #compile the model\n",
        "  model.compile(loss='mean_squared_error',optimizer='adam')\n",
        "  return model"
      ],
      "execution_count": null,
      "outputs": []
    },
    {
      "cell_type": "code",
      "metadata": {
        "colab": {
          "base_uri": "https://localhost:8080/"
        },
        "id": "8_iKOhwCX7_W",
        "outputId": "4070eaf4-ca08-4fe9-9e6a-7551d89091d2"
      },
      "source": [
        "larger_model().summary()"
      ],
      "execution_count": null,
      "outputs": [
        {
          "output_type": "stream",
          "text": [
            "Model: \"sequential_32\"\n",
            "_________________________________________________________________\n",
            "Layer (type)                 Output Shape              Param #   \n",
            "=================================================================\n",
            "dense_64 (Dense)             (None, 13)                182       \n",
            "_________________________________________________________________\n",
            "dense_65 (Dense)             (None, 6)                 84        \n",
            "_________________________________________________________________\n",
            "dense_66 (Dense)             (None, 1)                 7         \n",
            "=================================================================\n",
            "Total params: 273\n",
            "Trainable params: 273\n",
            "Non-trainable params: 0\n",
            "_________________________________________________________________\n"
          ],
          "name": "stdout"
        }
      ]
    },
    {
      "cell_type": "code",
      "metadata": {
        "colab": {
          "base_uri": "https://localhost:8080/"
        },
        "id": "wwmCR_Z-YAb8",
        "outputId": "7fa76f58-03d9-4a81-802f-0fe7c128159a"
      },
      "source": [
        "estimators=[]\n",
        "estimators.append(('standardize',StandardScaler()))\n",
        "estimators.append(('mlp',KerasRegressor(build_fn=larger_model,epochs=50,batch_size=5, verbose=0)))\n",
        "pipeline=Pipeline(estimators)\n",
        "kfold=KFold(n_splits=10)\n",
        "results= cross_val_score(pipeline, X_train,y_train,cv=kfold)\n",
        "print(\"Baseline=%.2f (%.2f) MSE\" % (results.mean(),results.std()))"
      ],
      "execution_count": null,
      "outputs": [
        {
          "output_type": "stream",
          "text": [
            "Baseline=-12.22 (7.19) MSE\n"
          ],
          "name": "stdout"
        }
      ]
    },
    {
      "cell_type": "markdown",
      "metadata": {
        "id": "NAIc1EWYYQYN"
      },
      "source": [
        "5.Wider Model"
      ]
    },
    {
      "cell_type": "code",
      "metadata": {
        "id": "UZlOk3xcYOk5"
      },
      "source": [
        "def wider_model():\n",
        "  #create model\n",
        "  model= Sequential()\n",
        "  model.add(Dense(20,input_dim=13,kernel_initializer='normal',activation='relu'))\n",
        "  model.add(Dense(1,kernel_initializer='normal'))\n",
        "  #compile the model\n",
        "  model.compile(loss='mean_squared_error',optimizer='adam')\n",
        "  return model "
      ],
      "execution_count": null,
      "outputs": []
    },
    {
      "cell_type": "code",
      "metadata": {
        "colab": {
          "base_uri": "https://localhost:8080/"
        },
        "id": "S-NyR2M1Ylti",
        "outputId": "ca668351-3ab1-4192-be51-95982029b027"
      },
      "source": [
        "wider_model().summary()"
      ],
      "execution_count": null,
      "outputs": [
        {
          "output_type": "stream",
          "text": [
            "Model: \"sequential_32\"\n",
            "_________________________________________________________________\n",
            "Layer (type)                 Output Shape              Param #   \n",
            "=================================================================\n",
            "dense_65 (Dense)             (None, 20)                280       \n",
            "_________________________________________________________________\n",
            "dense_66 (Dense)             (None, 1)                 21        \n",
            "=================================================================\n",
            "Total params: 301\n",
            "Trainable params: 301\n",
            "Non-trainable params: 0\n",
            "_________________________________________________________________\n"
          ],
          "name": "stdout"
        }
      ]
    },
    {
      "cell_type": "code",
      "metadata": {
        "colab": {
          "base_uri": "https://localhost:8080/"
        },
        "id": "XkFSsEW_Yqnu",
        "outputId": "c30d9ed7-cc01-4237-97ce-b2998230834a"
      },
      "source": [
        "estimators=[]\n",
        "estimators.append(('standardize',StandardScaler()))\n",
        "estimators.append(('mlp',KerasRegressor(build_fn=wider_model,epochs=50,batch_size=5, verbose=0)))\n",
        "pipeline=Pipeline(estimators)\n",
        "kfold=KFold(n_splits=10)\n",
        "results= cross_val_score(estimator, X_train,y_train,cv=kfold)\n",
        "print(\"Baseline=%.2f (%.2f) MSE\" % (results.mean(),results.std()))"
      ],
      "execution_count": null,
      "outputs": [
        {
          "output_type": "stream",
          "text": [
            "Baseline=-21.57 (8.57) MSE\n"
          ],
          "name": "stdout"
        }
      ]
    }
  ]
}