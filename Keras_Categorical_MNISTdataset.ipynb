{
  "nbformat": 4,
  "nbformat_minor": 0,
  "metadata": {
    "colab": {
      "name": "MNIST with DL.ipynb",
      "provenance": [],
      "collapsed_sections": []
    },
    "kernelspec": {
      "name": "python3",
      "display_name": "Python 3"
    },
    "language_info": {
      "name": "python"
    }
  },
  "cells": [
    {
      "cell_type": "markdown",
      "metadata": {
        "id": "YD-GVJIXGGq0"
      },
      "source": [
        "Import Keras related modules"
      ]
    },
    {
      "cell_type": "code",
      "metadata": {
        "id": "w0ZeC1EtZcN-"
      },
      "source": [
        "from keras.models import Sequential\n",
        "from keras.layers import Flatten, Dense, Dropout, Activation\n",
        "from keras.utils import np_utils\n",
        "from keras.datasets import mnist"
      ],
      "execution_count": null,
      "outputs": []
    },
    {
      "cell_type": "markdown",
      "metadata": {
        "id": "YJYCMAFXGmOv"
      },
      "source": [
        "Keras library is available by default in Google collab, from keyword is used to import the libraries and modules\n",
        "MNIST dataset is already available in the datasets module under Keras.\n",
        "matplotlib library has functions to plot arrays as images"
      ]
    },
    {
      "cell_type": "markdown",
      "metadata": {
        "id": "ZH1YO8oMHGbn"
      },
      "source": [
        "Import plotting modules"
      ]
    },
    {
      "cell_type": "code",
      "metadata": {
        "id": "dYcq_nA0HETe"
      },
      "source": [
        "from matplotlib import pyplot as plt"
      ],
      "execution_count": null,
      "outputs": []
    },
    {
      "cell_type": "markdown",
      "metadata": {
        "id": "OLiX4VO-I-DX"
      },
      "source": [
        "LOAD MNIST DATA"
      ]
    },
    {
      "cell_type": "code",
      "metadata": {
        "colab": {
          "base_uri": "https://localhost:8080/"
        },
        "id": "k6lFu9pfHa2B",
        "outputId": "80aa99cd-c51e-4695-f039-9be983b1f4fb"
      },
      "source": [
        "(X_train,y_train),(X_test,y_test) = mnist.load_data()"
      ],
      "execution_count": null,
      "outputs": [
        {
          "output_type": "stream",
          "text": [
            "Downloading data from https://storage.googleapis.com/tensorflow/tf-keras-datasets/mnist.npz\n",
            "11493376/11490434 [==============================] - 0s 0us/step\n"
          ],
          "name": "stdout"
        }
      ]
    },
    {
      "cell_type": "markdown",
      "metadata": {
        "id": "Ctq2iCS4HqwH"
      },
      "source": [
        "Let us understand the data and visualize one of the data elements"
      ]
    },
    {
      "cell_type": "code",
      "metadata": {
        "colab": {
          "base_uri": "https://localhost:8080/",
          "height": 316
        },
        "id": "CrF0VkB1HxF1",
        "outputId": "1d52d6ae-8e54-4156-a329-2c1456af84f3"
      },
      "source": [
        "print(X_train.shape)\n",
        "plt.imshow(X_train[0])\n",
        "\n",
        "print(y_train.shape)\n",
        "print(y_train[0])"
      ],
      "execution_count": null,
      "outputs": [
        {
          "output_type": "stream",
          "text": [
            "(60000, 28, 28)\n",
            "(60000,)\n",
            "5\n"
          ],
          "name": "stdout"
        },
        {
          "output_type": "display_data",
          "data": {
            "image/png": "[encoded data removed]",
            "text/plain": [
              "<Figure size 432x288 with 1 Axes>"
            ]
          },
          "metadata": {
            "tags": [],
            "needs_background": "light"
          }
        }
      ]
    },
    {
      "cell_type": "markdown",
      "metadata": {
        "id": "IktlY157IBCv"
      },
      "source": [
        "load_data function of the mnist loads the train and test data of MNIST into variables X_train,y_train and X_test,y_test\n",
        "\n",
        "X_train holds the 60000 training data images, each of which is a 28*28 image\n",
        "\n",
        "We are plotting the first training sample here.\n",
        "\n",
        "y_train holds the actual digit corresponding to X_train image.\n",
        "X_train and y_train are used to train our deep learning model"
      ]
    },
    {
      "cell_type": "markdown",
      "metadata": {
        "id": "PSMnYt2LJL5Z"
      },
      "source": [
        "# Preprocess the data"
      ]
    },
    {
      "cell_type": "markdown",
      "metadata": {
        "id": "y8-53kG5JU5q"
      },
      "source": [
        "Normalize X_train and X-test which has integers between 0 and 255 to floats between 0 and 1 by dividing with 255\n",
        "\n",
        "Convert the Y values y_train and y_testwhich are class data between 0 and 9 to categorical data\n",
        "0=[1,0,0,0,0,0,0,0,0,0]\n",
        "1=[0,1,0,0,0,0,0,0,0,0]\n",
        "9=[0,0,0,0,0,0,0,0,0,1]\n",
        "\n",
        "In the example y_train[0] is 5"
      ]
    },
    {
      "cell_type": "code",
      "metadata": {
        "id": "ni4gIfyWKLk_"
      },
      "source": [
        "X_train = X_train.astype('float32')\n",
        "X_test = X_test.astype('float32')\n",
        "X_train /= 255\n",
        "X_test /= 255\n"
      ],
      "execution_count": null,
      "outputs": []
    },
    {
      "cell_type": "markdown",
      "metadata": {
        "id": "q5uBCTmFKpxX"
      },
      "source": [
        "Convert 1-D class arrays to 10-D class matrices  and view the result"
      ]
    },
    {
      "cell_type": "code",
      "metadata": {
        "colab": {
          "base_uri": "https://localhost:8080/"
        },
        "id": "h3JOC9IcKoaM",
        "outputId": "83c871ff-ced7-41cd-8bd0-f535de1e343f"
      },
      "source": [
        "Y_train =np_utils.to_categorical(y_train,10)\n",
        "Y_test=np_utils.to_categorical(y_test,10)\n",
        "print(Y_train[0])            "
      ],
      "execution_count": null,
      "outputs": [
        {
          "output_type": "stream",
          "text": [
            "[0. 0. 0. 0. 0. 1. 0. 0. 0. 0.]\n"
          ],
          "name": "stdout"
        }
      ]
    },
    {
      "cell_type": "markdown",
      "metadata": {
        "id": "d74_Mgm8MKPj"
      },
      "source": [
        "DEFINE THE MODEL\n",
        "\n",
        "Model us defined to be of type Sequential, this means we append layers one by one.\n",
        "model.add is used to append the layers\n",
        "model.summary provides a summary of the each layer including the number of trainable parameters. Only Dense layers have trainable parameters.\n",
        "\n",
        "No. of trainable parameters = (number of neurons in previous layer+1)*(number of neurons in next layer)\n",
        "\n",
        "model.compile configures the model for training with all the hyperparameters, takes the loss function as a parameter"
      ]
    },
    {
      "cell_type": "code",
      "metadata": {
        "id": "2AeKq5VENHy8"
      },
      "source": [
        "model= Sequential()\n",
        "model.add(Flatten(input_shape=(28,28)))\n",
        "model.add(Dense(128, activation='relu'))\n",
        "model.add(Dropout(0.2))\n",
        "model.add(Dense(10))\n",
        "model.add(Activation('softmax'))"
      ],
      "execution_count": null,
      "outputs": []
    },
    {
      "cell_type": "code",
      "metadata": {
        "colab": {
          "base_uri": "https://localhost:8080/"
        },
        "id": "eKTzYhwANzah",
        "outputId": "6f1e0c9f-60bb-4265-9e7e-ac3192b9eee7"
      },
      "source": [
        "model.summary()"
      ],
      "execution_count": null,
      "outputs": [
        {
          "output_type": "stream",
          "text": [
            "Model: \"sequential\"\n",
            "_________________________________________________________________\n",
            "Layer (type)                 Output Shape              Param #   \n",
            "=================================================================\n",
            "flatten (Flatten)            (None, 784)               0         \n",
            "_________________________________________________________________\n",
            "dense (Dense)                (None, 128)               100480    \n",
            "_________________________________________________________________\n",
            "dropout (Dropout)            (None, 128)               0         \n",
            "_________________________________________________________________\n",
            "dense_1 (Dense)              (None, 10)                1290      \n",
            "_________________________________________________________________\n",
            "activation (Activation)      (None, 10)                0         \n",
            "=================================================================\n",
            "Total params: 101,770\n",
            "Trainable params: 101,770\n",
            "Non-trainable params: 0\n",
            "_________________________________________________________________\n"
          ],
          "name": "stdout"
        }
      ]
    },
    {
      "cell_type": "code",
      "metadata": {
        "id": "qsZrIsgLN2Tq"
      },
      "source": [
        "model.compile(loss='categorical_crossentropy',\n",
        "              optimizer='adam',\n",
        "              metrics=['accuracy'])"
      ],
      "execution_count": null,
      "outputs": []
    },
    {
      "cell_type": "markdown",
      "metadata": {
        "id": "W1wEp_cYOvrj"
      },
      "source": [
        "Input layer: Tensor of as many input smaples (see ?), each of dimension 28*28\n",
        "Layer1: flatten 28*28 image into 1-D vector of length 784\n",
        "Layer2: a fully connected neural network layer with 128 neurons\n",
        "Layer3: build a 20% drop out, that is turn off 20% off the neurons randomly in the previous layer each time \n",
        "Layer4: A fully connected neural network layer with 10 neurons\n",
        "Layer5: Apply softmax activation to normalize across all 10 output neurons. The class which is most likely gets the highest value between 0 and 1"
      ]
    },
    {
      "cell_type": "code",
      "metadata": {
        "colab": {
          "base_uri": "https://localhost:8080/",
          "height": 644
        },
        "id": "eNhHaT6UOq4C",
        "outputId": "3f1e33ef-604e-4030-c0c5-79dd9a3ff1ce"
      },
      "source": [
        "from keras.utils import plot_model\n",
        "plot_model(model,\n",
        "           to_file='model.png',\n",
        "           show_shapes=True,\n",
        "           show_layer_names=True,\n",
        "           rankdir='TB',\n",
        "           expand_nested=False,\n",
        "           dpi=96)"
      ],
      "execution_count": null,
      "outputs": [
        {
          "output_type": "execute_result",
          "data": {
            "image/png": "[encoded data removed]",
            "text/plain": [
              "<IPython.core.display.Image object>"
            ]
          },
          "metadata": {
            "tags": []
          },
          "execution_count": 11
        }
      ]
    },
    {
      "cell_type": "markdown",
      "metadata": {
        "id": "D_lqeG11SMN1"
      },
      "source": [
        "TRAIN THE MODEL\n",
        "\n",
        "model.fit is used to perform the training of the model\n",
        "epochs is the number of times the model learns through all training smaples\n",
        "batch_size is the number of samples taken in one iteration before updating the weights. Balances between memory utilization and stability since batch_size=32 and number of samples=60000, each epoch has 60000/32= 1875 mini batches\n",
        "verbose provides the detailed output of each epoch\n",
        "loss function is value at the end of each epoch\n",
        "accuracy calculates how often prediction equal labels. Becomes 1 when all the predictions match expected vlaue. In output of fit function, accuracy is with respect to training data.\n"
      ]
    },
    {
      "cell_type": "code",
      "metadata": {
        "colab": {
          "base_uri": "https://localhost:8080/"
        },
        "id": "5tkSHVnrRkpo",
        "outputId": "88867316-1f92-4731-8a15-593d8efccc7a"
      },
      "source": [
        "model.fit(X_train,Y_train, batch_size=32,epochs=10, verbose=1)"
      ],
      "execution_count": null,
      "outputs": [
        {
          "output_type": "stream",
          "text": [
            "Epoch 1/10\n",
            "1875/1875 [==============================] - 4s 2ms/step - loss: 0.4800 - accuracy: 0.8588\n",
            "Epoch 2/10\n",
            "1875/1875 [==============================] - 3s 2ms/step - loss: 0.1515 - accuracy: 0.9555\n",
            "Epoch 3/10\n",
            "1875/1875 [==============================] - 3s 2ms/step - loss: 0.1059 - accuracy: 0.9690\n",
            "Epoch 4/10\n",
            "1875/1875 [==============================] - 3s 2ms/step - loss: 0.0874 - accuracy: 0.9726\n",
            "Epoch 5/10\n",
            "1875/1875 [==============================] - 3s 2ms/step - loss: 0.0733 - accuracy: 0.9775\n",
            "Epoch 6/10\n",
            "1875/1875 [==============================] - 3s 2ms/step - loss: 0.0632 - accuracy: 0.9794\n",
            "Epoch 7/10\n",
            "1875/1875 [==============================] - 3s 2ms/step - loss: 0.0566 - accuracy: 0.9820\n",
            "Epoch 8/10\n",
            "1875/1875 [==============================] - 3s 2ms/step - loss: 0.0545 - accuracy: 0.9824\n",
            "Epoch 9/10\n",
            "1875/1875 [==============================] - 3s 2ms/step - loss: 0.0461 - accuracy: 0.9838\n",
            "Epoch 10/10\n",
            "1875/1875 [==============================] - 3s 2ms/step - loss: 0.0429 - accuracy: 0.9854\n"
          ],
          "name": "stdout"
        },
        {
          "output_type": "execute_result",
          "data": {
            "text/plain": [
              "<tensorflow.python.keras.callbacks.History at 0x7f48a48b2ad0>"
            ]
          },
          "metadata": {
            "tags": []
          },
          "execution_count": 12
        }
      ]
    },
    {
      "cell_type": "markdown",
      "metadata": {
        "id": "bIHVO83QVybO"
      },
      "source": [
        "EVALUATE THE MODEL\n",
        "\n",
        "model.evaluate is used to evaluate the model accuracy with respect to the test data\n",
        "\n",
        "It is sone in batches, where batch_size is defined during the training of the model. In this case number of mini batches is 10000/32 =313\n",
        "\n",
        "Accuracy: calculates how often predictions equals labels. Becomes 1 when all the predictions match expected value, in the output of evaluate function, accuracy is with respect to testing data\n",
        "\n",
        "reshape function is used to flatten the test data into a format similar to how the training data was flattened \n",
        "\n",
        "model.predict is used to get the prediction for test data based on the trained model\n",
        "\n",
        "argmax returns the index of the maximum value of the array, similar functionality as softmax activation in training\n",
        "\n",
        "We plot the first test image X_test[0], expected output is y_test[0] and the value predicted by the model predicted_class"
      ]
    },
    {
      "cell_type": "code",
      "metadata": {
        "colab": {
          "base_uri": "https://localhost:8080/"
        },
        "id": "Bv2T8DdKT3ds",
        "outputId": "31007d6d-13c5-41fe-e3ee-22471e3d3fc9"
      },
      "source": [
        "score = model.evaluate(X_test, Y_test, verbose=1)"
      ],
      "execution_count": null,
      "outputs": [
        {
          "output_type": "stream",
          "text": [
            "313/313 [==============================] - 1s 2ms/step - loss: 0.0703 - accuracy: 0.9794\n"
          ],
          "name": "stdout"
        }
      ]
    },
    {
      "cell_type": "code",
      "metadata": {
        "colab": {
          "base_uri": "https://localhost:8080/",
          "height": 282
        },
        "id": "wTl-4H6pXuYT",
        "outputId": "5141adf8-de10-46a7-f11e-fe7ee65a1e03"
      },
      "source": [
        "plt.imshow(X_test[0])\n",
        "print(y_test[0])"
      ],
      "execution_count": null,
      "outputs": [
        {
          "output_type": "stream",
          "text": [
            "7\n"
          ],
          "name": "stdout"
        },
        {
          "output_type": "display_data",
          "data": {
            "image/png": "[encoded data removed]",
            "text/plain": [
              "<Figure size 432x288 with 1 Axes>"
            ]
          },
          "metadata": {
            "tags": [],
            "needs_background": "light"
          }
        }
      ]
    },
    {
      "cell_type": "code",
      "metadata": {
        "colab": {
          "base_uri": "https://localhost:8080/"
        },
        "id": "ZcUN40FLX5rY",
        "outputId": "9e10bbde-0aa2-4ac3-b55f-67d7f95c4261"
      },
      "source": [
        "import numpy as np\n",
        "from numpy import argmax\n",
        "X_test0 =X_test[0].reshape(-1,28,28)\n",
        "prediction = model.predict(X_test0)\n",
        "#Generate the argmax for prediction\n",
        "predicted_class= argmax(prediction)\n",
        "print(predicted_class)"
      ],
      "execution_count": null,
      "outputs": [
        {
          "output_type": "stream",
          "text": [
            "7\n"
          ],
          "name": "stdout"
        }
      ]
    }
  ]
}