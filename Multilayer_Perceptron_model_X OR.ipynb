{
 "cells": [
  {
   "cell_type": "markdown",
   "metadata": {},
   "source": [
    "# Multilayer Perceptron- Exclusive OR logic "
   ]
  },
  {
   "cell_type": "markdown",
   "metadata": {},
   "source": [
    "Exclusive OR logic:\n",
    "Input: x1= [0 0 1 1], x2= [0 1 0 1]\n",
    "Output: y= [0 1 1 0]"
   ]
  },
  {
   "cell_type": "code",
   "execution_count": 1,
   "metadata": {},
   "outputs": [],
   "source": [
    "import numpy as np\n",
    "X = np.array([[0,0],[0,1],[1,0],[1,1]])\n",
    "y = np.array([[0,1,1,0]]).T\n",
    "#weights initialization\n",
    "W1 = 2*np.random.random((2,4))-1\n",
    "W2 = 2*np.random.random((4,1))-1\n",
    "Alpha=1\n",
    "bias=0.9"
   ]
  },
  {
   "cell_type": "code",
   "execution_count": 2,
   "metadata": {},
   "outputs": [],
   "source": [
    "for j in range(10000):\n",
    "    #activation of hidden layer\n",
    "    y1 = 1/(1+np.exp(-(np.dot(X,W1))))\n",
    "    #activation of output layer\n",
    "    y2 = 1/(1+np.exp(-(np.dot(y1,W2))))\n",
    "    #weights training\n",
    "    y2_delta=Alpha* (y-y2)*(y2*(1-y2))\n",
    "    y1_delta=Alpha* y2_delta.dot(W2.T)*(y1*(1-y1))\n",
    "    W2 = W2 + y1.T.dot(y2_delta)\n",
    "    W1 = W1 + X.T.dot(y1_delta)\n"
   ]
  },
  {
   "cell_type": "code",
   "execution_count": 3,
   "metadata": {},
   "outputs": [],
   "source": [
    "for i in range(len(y2)):\n",
    "    if y2[i]>bias:\n",
    "        y2[i]=1\n",
    "    else:\n",
    "        y2[i]=0"
   ]
  },
  {
   "cell_type": "markdown",
   "metadata": {},
   "source": [
    "Bias is the threshold for the activation function (We used sigmoid here for non linear data). If we don't use the bias then the final output y2 will comes into values 0.9/0.1 but by using bias condition on y2, It's giving us the desired output."
   ]
  },
  {
   "cell_type": "code",
   "execution_count": 4,
   "metadata": {},
   "outputs": [
    {
     "name": "stdout",
     "output_type": "stream",
     "text": [
      "y2= [[0.]\n",
      " [1.]\n",
      " [1.]\n",
      " [0.]]\n",
      "error= [[-0.0002556 ]\n",
      " [ 0.00023405]\n",
      " [ 0.00023934]\n",
      " [-0.00021027]]\n",
      "weight1= [[-2.44652836  5.40984411  7.07971476 -3.42687006]\n",
      " [-2.24546918  5.45475037 -3.43380175  7.04058602]]\n",
      "weight2= [[-3.55428403]\n",
      " [14.29766283]\n",
      " [-9.51608194]\n",
      " [-9.45059779]]\n"
     ]
    }
   ],
   "source": [
    "#final results after all the iterations\n",
    "print('y2=',y2)\n",
    "print('error=',y2_delta)\n",
    "print('weight1=',W1)\n",
    "print('weight2=',W2)\n"
   ]
  }
 ],
 "metadata": {
  "kernelspec": {
   "display_name": "Python 3",
   "language": "python",
   "name": "python3"
  },
  "language_info": {
   "codemirror_mode": {
    "name": "ipython",
    "version": 3
   },
   "file_extension": ".py",
   "mimetype": "text/x-python",
   "name": "python",
   "nbconvert_exporter": "python",
   "pygments_lexer": "ipython3",
   "version": "3.8.3"
  }
 },
 "nbformat": 4,
 "nbformat_minor": 4
}
